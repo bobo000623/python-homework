{
  "metadata": {
    "kernelspec": {
      "name": "python",
      "display_name": "Python (Pyodide)",
      "language": "python"
    },
    "language_info": {
      "codemirror_mode": {
        "name": "python",
        "version": 3
      },
      "file_extension": ".py",
      "mimetype": "text/x-python",
      "name": "python",
      "nbconvert_exporter": "python",
      "pygments_lexer": "ipython3",
      "version": "3.8"
    }
  },
  "nbformat_minor": 4,
  "nbformat": 4,
  "cells": [
    {
      "cell_type": "code",
      "source": "level1=520000*0.05\nlevel2=(1170000-520000)*0.12\nlevel3=(2350000-1170000)*0.2\nlevel4=(4400000-2350000)*0.3\nlevel5=(10000000-4400000)*0.4\nincome=int(input('請輸入淨年所得額:'))\n\nif income <= 520000:\n    tax=income*0.05\n\nelif income <= 1170000:\n    tax=level1+((income-520000)*0.12)\n\nelif income <= 2350000:\n    tax=level1+level2+((income-1170000)*0.2)\n    \nelif income <=4400000:\n    tax=level1+level2+level3+((income-2350000)*0.3)\n\nelif income <= 10000000:\n    tax=level1+level2+level3+level4+((income-4400000)*0.4)\n\nelse:\n    tax=level1+level2+level3+level4+level5+((income-10000000)*0.45)\n\nprint('應繳稅額=',tax)",
      "metadata": {
        "trusted": true
      },
      "outputs": [
        {
          "ename": "<class 'TypeError'>",
          "evalue": "int() argument must be a string, a bytes-like object or a real number, not 'PyodideFuture'",
          "traceback": [
            "\u001b[0;31m---------------------------------------------------------------------------\u001b[0m",
            "\u001b[0;31mTypeError\u001b[0m                                 Traceback (most recent call last)",
            "Cell \u001b[0;32mIn[1], line 6\u001b[0m\n\u001b[1;32m      4\u001b[0m level4\u001b[38;5;241m=\u001b[39m(\u001b[38;5;241m4400000\u001b[39m\u001b[38;5;241m-\u001b[39m\u001b[38;5;241m2350000\u001b[39m)\u001b[38;5;241m*\u001b[39m\u001b[38;5;241m0.3\u001b[39m\n\u001b[1;32m      5\u001b[0m level5\u001b[38;5;241m=\u001b[39m(\u001b[38;5;241m10000000\u001b[39m\u001b[38;5;241m-\u001b[39m\u001b[38;5;241m4400000\u001b[39m)\u001b[38;5;241m*\u001b[39m\u001b[38;5;241m0.4\u001b[39m\n\u001b[0;32m----> 6\u001b[0m income\u001b[38;5;241m=\u001b[39m\u001b[38;5;28;43mint\u001b[39;49m\u001b[43m(\u001b[49m\u001b[38;5;28;43minput\u001b[39;49m\u001b[43m(\u001b[49m\u001b[38;5;124;43m'\u001b[39;49m\u001b[38;5;124;43m請輸入淨年所得額:\u001b[39;49m\u001b[38;5;124;43m'\u001b[39;49m\u001b[43m)\u001b[49m\u001b[43m)\u001b[49m\n\u001b[1;32m      8\u001b[0m \u001b[38;5;28;01mif\u001b[39;00m income \u001b[38;5;241m<\u001b[39m\u001b[38;5;241m=\u001b[39m \u001b[38;5;241m520000\u001b[39m:\n\u001b[1;32m      9\u001b[0m     tax\u001b[38;5;241m=\u001b[39mincome\u001b[38;5;241m*\u001b[39m\u001b[38;5;241m0.05\u001b[39m\n",
            "\u001b[0;31mTypeError\u001b[0m: int() argument must be a string, a bytes-like object or a real number, not 'PyodideFuture'"
          ],
          "output_type": "error"
        }
      ],
      "execution_count": 1
    },
    {
      "cell_type": "code",
      "source": "",
      "metadata": {
        "trusted": true
      },
      "outputs": [],
      "execution_count": null
    }
  ]
}