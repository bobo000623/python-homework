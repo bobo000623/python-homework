{
  "metadata": {
    "kernelspec": {
      "name": "python",
      "display_name": "Python (Pyodide)",
      "language": "python"
    },
    "language_info": {
      "codemirror_mode": {
        "name": "python",
        "version": 3
      },
      "file_extension": ".py",
      "mimetype": "text/x-python",
      "name": "python",
      "nbconvert_exporter": "python",
      "pygments_lexer": "ipython3",
      "version": "3.8"
    }
  },
  "nbformat_minor": 4,
  "nbformat": 4,
  "cells": [
    {
      "cell_type": "code",
      "source": "#景氣對策信號\n\nscore=int(input('請輸入景氣對策信號綜合分數'))\nif score>=45 or score<9:\n    print('錯誤')\nelif score>=37:\n    print('紅燈')\nelif score>=31:\n    print('黃紅燈')\nelif score>=22:\n    print('綠燈')\nelif score>=16:\n    print('黃藍燈')\nelif score>=9:\n    print('藍燈')",
      "metadata": {
        "trusted": true
      },
      "outputs": [
        {
          "ename": "<class 'NameError'>",
          "evalue": "name 'String' is not defined",
          "traceback": [
            "\u001b[0;31m---------------------------------------------------------------------------\u001b[0m",
            "\u001b[0;31mNameError\u001b[0m                                 Traceback (most recent call last)",
            "Cell \u001b[0;32mIn[4], line 3\u001b[0m\n\u001b[1;32m      1\u001b[0m \u001b[38;5;66;03m# 景氣對策信號\u001b[39;00m\n\u001b[0;32m----> 3\u001b[0m inputString \u001b[38;5;241m=\u001b[39m \u001b[43mString\u001b[49m(\u001b[38;5;28minput\u001b[39m(\u001b[38;5;124m'\u001b[39m\u001b[38;5;124m請輸入景氣對策信號綜合分數\u001b[39m\u001b[38;5;124m'\u001b[39m))\n\u001b[1;32m      4\u001b[0m score\u001b[38;5;241m=\u001b[39m\u001b[38;5;28mint\u001b[39m(inputString)\n\u001b[1;32m      5\u001b[0m \u001b[38;5;28;01mif\u001b[39;00m score\u001b[38;5;241m>\u001b[39m\u001b[38;5;241m=\u001b[39m\u001b[38;5;241m45\u001b[39m \u001b[38;5;129;01mor\u001b[39;00m score \u001b[38;5;241m>\u001b[39m \u001b[38;5;241m9\u001b[39m:\n",
            "\u001b[0;31mNameError\u001b[0m: name 'String' is not defined"
          ],
          "output_type": "error"
        }
      ],
      "execution_count": 4
    },
    {
      "cell_type": "code",
      "source": "",
      "metadata": {
        "trusted": true
      },
      "outputs": [],
      "execution_count": null
    }
  ]
}